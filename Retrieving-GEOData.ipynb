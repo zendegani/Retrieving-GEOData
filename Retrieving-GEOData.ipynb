{
 "cells": [
  {
   "cell_type": "code",
   "execution_count": 1,
   "metadata": {},
   "outputs": [],
   "source": [
    "import urllib.request, urllib.parse, urllib.error\n",
    "import http\n",
    "import sqlite3\n",
    "import json\n",
    "import time\n",
    "import ssl\n",
    "import sys"
   ]
  },
  {
   "cell_type": "code",
   "execution_count": 2,
   "metadata": {},
   "outputs": [],
   "source": [
    "api_key = False\n",
    "# If you have a Google Places API key, enter it here\n",
    "# api_key = 'AIzaSy___IDByT70'\n",
    "\n",
    "if api_key is False:\n",
    "    api_key = 42\n",
    "    serviceurl = \"http://py4e-data.dr-chuck.net/json?\"\n",
    "else :\n",
    "    serviceurl = \"https://maps.googleapis.com/maps/api/geocode/json?\"\n",
    "\n",
    "# Additional detail for urllib\n",
    "# http.client.HTTPConnection.debuglevel = 1\n",
    "\n",
    "# Ignore SSL certificate errors\n",
    "ctx = ssl.create_default_context()\n",
    "ctx.check_hostname = False\n",
    "ctx.verify_mode = ssl.CERT_NONE"
   ]
  },
  {
   "cell_type": "code",
   "execution_count": 7,
   "metadata": {
    "scrolled": false
   },
   "outputs": [
    {
     "name": "stdout",
     "output_type": "stream",
     "text": [
      "\n",
      "Found in database  AGH University of Science and Technology\n",
      "\n",
      "Found in database  Academy of Fine Arts Warsaw Poland\n",
      "\n",
      "Found in database  American University in Cairo\n",
      "\n",
      "Found in database  Arizona State University\n",
      "\n",
      "Found in database  Athens Information Technology\n",
      "\n",
      "Found in database  BITS Pilani\n",
      "\n",
      "Found in database  Babcock University\n",
      "\n",
      "Found in database  Banaras Hindu University\n",
      "\n",
      "Found in database  Bangalore University\n",
      "\n",
      "Found in database  Baylor University\n",
      "\n",
      "Found in database  Beijing normal university\n",
      "\n",
      "Retrieving http://py4e-data.dr-chuck.net/json?address=Belarusian+State+University&key=42\n",
      "Retrieved 4476 characters {    \"results\" : [  \n",
      "\n",
      "Retrieving http://py4e-data.dr-chuck.net/json?address=Belgrade+University&key=42\n",
      "Retrieved 1944 characters {    \"results\" : [  \n",
      "\n",
      "Retrieving http://py4e-data.dr-chuck.net/json?address=Beloit+College&key=42\n",
      "Retrieved 2248 characters {    \"results\" : [  \n",
      "\n",
      "Retrieving http://py4e-data.dr-chuck.net/json?address=Belorussian+State+University&key=42\n",
      "Retrieved 4542 characters {    \"results\" : [  \n",
      "\n",
      "Retrieving http://py4e-data.dr-chuck.net/json?address=Ben+Gurion+University&key=42\n",
      "Retrieved 2337 characters {    \"results\" : [  \n",
      "\n",
      "Retrieving http://py4e-data.dr-chuck.net/json?address=Bharthidasan+University&key=42\n",
      "Retrieved 1893 characters {    \"results\" : [  \n",
      "\n",
      "Retrieving http://py4e-data.dr-chuck.net/json?address=Boston+University&key=42\n",
      "Retrieved 1982 characters {    \"results\" : [  \n",
      "\n",
      "Retrieving http://py4e-data.dr-chuck.net/json?address=California+Polytechnic+State+University+of+San+Luis+Obispo&key=42\n",
      "Retrieved 1842 characters {    \"results\" : [  \n",
      "\n",
      "Retrieving http://py4e-data.dr-chuck.net/json?address=California+State+University+San+Bernardino&key=42\n",
      "Retrieved 2164 characters {    \"results\" : [  \n",
      "\n",
      "Retrieving http://py4e-data.dr-chuck.net/json?address=City+of+Westminster+College&key=42\n",
      "Retrieved 2108 characters {    \"results\" : [  \n",
      "Pausing for a bit...\n",
      "\n",
      "Retrieving http://py4e-data.dr-chuck.net/json?address=Columbia+University&key=42\n",
      "Retrieved 4410 characters {    \"results\" : [  \n",
      "Retrieved 10 locations, restart to retrieve more\n",
      "Run geodump.py to read the data from the database so you can vizualize it on a map.\n"
     ]
    }
   ],
   "source": [
    "conn = sqlite3.connect('geodata.sqlite')\n",
    "cur = conn.cursor()\n",
    "\n",
    "cur.execute('''\n",
    "CREATE TABLE IF NOT EXISTS Locations (address TEXT, geodata TEXT)''')\n",
    "\n",
    "fh = open(\"where.data\")\n",
    "count = 0\n",
    "for line in fh:\n",
    "    if count > 10 :\n",
    "        print('Retrieved 10 locations, restart to retrieve more')\n",
    "        break\n",
    "\n",
    "    address = line.strip()\n",
    "    print('')\n",
    "    cur.execute(\"SELECT geodata FROM Locations WHERE address= ?\",\n",
    "        (memoryview(address.encode()), ))\n",
    "\n",
    "    try:\n",
    "        data = cur.fetchone()[0]\n",
    "        print(\"Found in database \",address)\n",
    "        continue\n",
    "    except:\n",
    "        pass\n",
    "\n",
    "    parms = dict()\n",
    "    parms[\"address\"] = address\n",
    "    if api_key is not False: parms['key'] = api_key\n",
    "    url = serviceurl + urllib.parse.urlencode(parms)\n",
    "\n",
    "    print('Retrieving', url)\n",
    "    uh = urllib.request.urlopen(url, context=ctx)\n",
    "    data = uh.read().decode()\n",
    "    print('Retrieved', len(data), 'characters', data[:20].replace('\\n', ' '))\n",
    "    count = count + 1\n",
    "\n",
    "    try:\n",
    "        js = json.loads(data)\n",
    "    except:\n",
    "        print(data)  # We print in case unicode causes an error\n",
    "        continue\n",
    "\n",
    "    if 'status' not in js or (js['status'] != 'OK' and js['status'] != 'ZERO_RESULTS') :\n",
    "        print('==== Failure To Retrieve ====')\n",
    "        print(data)\n",
    "        break\n",
    "\n",
    "    cur.execute('''INSERT INTO Locations (address, geodata)\n",
    "            VALUES ( ?, ? )''', (memoryview(address.encode()), memoryview(data.encode()) ) )\n",
    "    conn.commit()\n",
    "    if count % 10 == 0 :\n",
    "        print('Pausing for a bit...')\n",
    "        time.sleep(5)\n",
    "\n",
    "print(\"Run geodump.py to read the data from the database so you can vizualize it on a map.\")"
   ]
  },
  {
   "cell_type": "code",
   "execution_count": 8,
   "metadata": {},
   "outputs": [],
   "source": [
    "import sqlite3\n",
    "import json\n",
    "import codecs"
   ]
  },
  {
   "cell_type": "code",
   "execution_count": 9,
   "metadata": {
    "scrolled": false
   },
   "outputs": [
    {
     "name": "stdout",
     "output_type": "stream",
     "text": [
      "aleja Adama Mickiewicza 30, 30-059 Kraków, Poland 50.06688579999999 19.9136192\n",
      "Krakowskie Przedmieście 5, 00-068 Warszawa, Poland 52.2394019 21.0150792\n",
      "AUC Avenue، Road، First New Cairo, Cairo Governorate 11835, Egypt 30.0189275 31.499707\n",
      "Phoenix, AZ 85004, USA 33.4532165 -112.0719833\n",
      "Athens, OH 45701, USA 39.3301047 -82.1076022\n",
      "Vidya Vihar, Pilani, Rajasthan 333031, India 28.3588163 75.58802039999999\n",
      "Ilishan-Remo, Nigeria 6.8939569 3.7187158\n",
      "Ajagara, Varanasi, Uttar Pradesh 221005, India 25.2677203 82.99125819999999\n",
      "Mysore Rd, Jnana Bharathi, Bengaluru, Karnataka 560056, India 12.9503878 77.5022224\n",
      "1311 S 5th St, Waco, TX 76706, USA 31.5488923 -97.1130573\n",
      "19 Xinjiekou Outer St, Bei Tai Ping Zhuang, Haidian Qu, Beijing Shi, China, 100875 39.9619537 116.3662615\n",
      "praspiekt Niezaliežnasci 4, Minsk, Belarus 53.8938988 27.5460609\n",
      "Studentski trg 1, Beograd, Serbia 44.8184518 20.4575913\n",
      "700 College St, Beloit, WI 53511, USA 42.5030333 -89.0309048\n",
      "praspiekt Niezaliežnasci 4, Minsk, Belarus 53.8938988 27.5460609\n",
      "1000 Finch Ave W, North York, ON M3J 2V5, Canada 43.76908419999999 -79.4692584\n",
      "Palkalaiperur, Tiruchirappalli, Tamil Nadu 620024, India 10.6779085 78.74454879999999\n",
      "Boston, MA 02215, USA 42.3504997 -71.1053991\n",
      "San Luis Obispo, CA 93407, USA 35.3050053 -120.6624942\n",
      "5500 University Pkwy, San Bernardino, CA 92407, USA 34.1817955 -117.3237219\n",
      "25 Paddington Green, London W2 1NB, UK 51.5210038 -0.1746353\n",
      "New York, NY 10027, USA 40.8075355 -73.9625727\n",
      "22 records written to where.js\n",
      "Open where.html to view the data in a browser\n"
     ]
    }
   ],
   "source": [
    "conn = sqlite3.connect('geodata.sqlite')\n",
    "cur = conn.cursor()\n",
    "\n",
    "cur.execute('SELECT * FROM Locations')\n",
    "fhand = codecs.open('where.js', 'w', \"utf-8\")\n",
    "fhand.write(\"myData = [\\n\")\n",
    "count = 0\n",
    "for row in cur :\n",
    "    data = str(row[1].decode())\n",
    "    try: js = json.loads(str(data))\n",
    "    except: continue\n",
    "\n",
    "    if not('status' in js and js['status'] == 'OK') : continue\n",
    "\n",
    "    lat = js[\"results\"][0][\"geometry\"][\"location\"][\"lat\"]\n",
    "    lng = js[\"results\"][0][\"geometry\"][\"location\"][\"lng\"]\n",
    "    if lat == 0 or lng == 0 : continue\n",
    "    where = js['results'][0]['formatted_address']\n",
    "    where = where.replace(\"'\", \"\")\n",
    "    try :\n",
    "        print(where, lat, lng)\n",
    "\n",
    "        count = count + 1\n",
    "        if count > 1 : fhand.write(\",\\n\")\n",
    "        output = \"[\"+str(lat)+\",\"+str(lng)+\", '\"+where+\"']\"\n",
    "        fhand.write(output)\n",
    "    except:\n",
    "        continue\n",
    "\n",
    "fhand.write(\"\\n];\\n\")\n",
    "cur.close()\n",
    "fhand.close()\n",
    "print(count, \"records written to where.js\")\n",
    "print(\"Open where.html to view the data in a browser\")"
   ]
  },
  {
   "cell_type": "code",
   "execution_count": 10,
   "metadata": {},
   "outputs": [
    {
     "data": {
      "text/html": [
       "<iframe src=\"./where.html\" width=\"1200\" height=\"1000\"></iframe>\n"
      ],
      "text/plain": [
       "<IPython.core.display.HTML object>"
      ]
     },
     "metadata": {},
     "output_type": "display_data"
    }
   ],
   "source": [
    "%%html\n",
    "<iframe src=\"./where.html\" width=\"1200\" height=\"1000\"></iframe>"
   ]
  },
  {
   "cell_type": "code",
   "execution_count": null,
   "metadata": {},
   "outputs": [],
   "source": []
  }
 ],
 "metadata": {
  "kernelspec": {
   "display_name": "Python 3",
   "language": "python",
   "name": "python3"
  },
  "language_info": {
   "codemirror_mode": {
    "name": "ipython",
    "version": 3
   },
   "file_extension": ".py",
   "mimetype": "text/x-python",
   "name": "python",
   "nbconvert_exporter": "python",
   "pygments_lexer": "ipython3",
   "version": "3.8.5"
  }
 },
 "nbformat": 4,
 "nbformat_minor": 4
}
